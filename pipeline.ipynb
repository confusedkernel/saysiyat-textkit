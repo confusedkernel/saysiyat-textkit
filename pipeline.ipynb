{
 "cells": [
  {
   "cell_type": "markdown",
   "id": "3c363a95",
   "metadata": {},
   "source": [
    "# Saysiyat Textkit\n"
   ]
  }
 ],
 "metadata": {
  "language_info": {
   "name": "python"
  }
 },
 "nbformat": 4,
 "nbformat_minor": 5
}
