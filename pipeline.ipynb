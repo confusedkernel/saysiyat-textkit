{
 "cells": [
  {
   "cell_type": "markdown",
   "id": "3c363a95",
   "metadata": {},
   "source": [
    "# Saysiyat Textkit\n"
   ]
  },
  {
   "cell_type": "code",
   "execution_count": 3,
   "id": "be725880",
   "metadata": {},
   "outputs": [
    {
     "name": "stderr",
     "output_type": "stream",
     "text": [
      "......................"
     ]
    },
    {
     "name": "stdout",
     "output_type": "stream",
     "text": [
      "Package version: 0.1.0\n"
     ]
    },
    {
     "name": "stderr",
     "output_type": "stream",
     "text": [
      ".....................................\n",
      "...........................................................\n",
      "...........................................................\n",
      "...........................................................\n"
     ]
    },
    {
     "data": {
      "text/html": [
       "<div>\n",
       "<style scoped>\n",
       "    .dataframe tbody tr th:only-of-type {\n",
       "        vertical-align: middle;\n",
       "    }\n",
       "\n",
       "    .dataframe tbody tr th {\n",
       "        vertical-align: top;\n",
       "    }\n",
       "\n",
       "    .dataframe thead th {\n",
       "        text-align: right;\n",
       "    }\n",
       "</style>\n",
       "<table border=\"1\" class=\"dataframe\">\n",
       "  <thead>\n",
       "    <tr style=\"text-align: right;\">\n",
       "      <th></th>\n",
       "      <th>sent_id</th>\n",
       "      <th>token_id</th>\n",
       "      <th>token</th>\n",
       "      <th>segments</th>\n",
       "      <th>tag</th>\n",
       "      <th>lemma</th>\n",
       "      <th>gloss</th>\n",
       "    </tr>\n",
       "  </thead>\n",
       "  <tbody>\n",
       "    <tr>\n",
       "      <th>0</th>\n",
       "      <td>1</td>\n",
       "      <td>1</td>\n",
       "      <td>hizar</td>\n",
       "      <td>hiza a</td>\n",
       "      <td>WORD</td>\n",
       "      <td></td>\n",
       "      <td></td>\n",
       "    </tr>\n",
       "    <tr>\n",
       "      <th>1</th>\n",
       "      <td>1</td>\n",
       "      <td>2</td>\n",
       "      <td>korkoring</td>\n",
       "      <td>korkoring</td>\n",
       "      <td>WORD</td>\n",
       "      <td>korkoring</td>\n",
       "      <td>小孩</td>\n",
       "    </tr>\n",
       "    <tr>\n",
       "      <th>2</th>\n",
       "      <td>1</td>\n",
       "      <td>3</td>\n",
       "      <td>ma</td>\n",
       "      <td>ma</td>\n",
       "      <td>WORD</td>\n",
       "      <td></td>\n",
       "      <td></td>\n",
       "    </tr>\n",
       "    <tr>\n",
       "      <th>3</th>\n",
       "      <td>1</td>\n",
       "      <td>4</td>\n",
       "      <td>'</td>\n",
       "      <td>'</td>\n",
       "      <td>PUNCT</td>\n",
       "      <td></td>\n",
       "      <td></td>\n",
       "    </tr>\n",
       "    <tr>\n",
       "      <th>4</th>\n",
       "      <td>1</td>\n",
       "      <td>5</td>\n",
       "      <td>rem</td>\n",
       "      <td>rem</td>\n",
       "      <td>WORD</td>\n",
       "      <td></td>\n",
       "      <td></td>\n",
       "    </tr>\n",
       "  </tbody>\n",
       "</table>\n",
       "</div>"
      ],
      "text/plain": [
       "   sent_id  token_id      token   segments    tag      lemma gloss\n",
       "0        1         1      hizar     hiza a   WORD                 \n",
       "1        1         2  korkoring  korkoring   WORD  korkoring    小孩\n",
       "2        1         3         ma         ma   WORD                 \n",
       "3        1         4          '          '  PUNCT                 \n",
       "4        1         5        rem        rem   WORD                 "
      ]
     },
     "execution_count": 3,
     "metadata": {},
     "output_type": "execute_result"
    }
   ],
   "source": [
    "import saysiyat_textkit as stk\n",
    "from saysiyat_textkit.pipeline import run_pipeline_from_text     # 從txt跑\n",
    "\n",
    "print(\"Package version:\", getattr(stk, \"__version__\", \"unknown\"))\n",
    "\n",
    "text = \"hiZar kOrKOriNg ma'rem\"\n",
    "df = run_pipeline_from_text(text)\n",
    "df"
   ]
  }
 ],
 "metadata": {
  "kernelspec": {
   "display_name": "venv",
   "language": "python",
   "name": "python3"
  },
  "language_info": {
   "codemirror_mode": {
    "name": "ipython",
    "version": 3
   },
   "file_extension": ".py",
   "mimetype": "text/x-python",
   "name": "python",
   "nbconvert_exporter": "python",
   "pygments_lexer": "ipython3",
   "version": "3.13.7"
  }
 },
 "nbformat": 4,
 "nbformat_minor": 5
}
